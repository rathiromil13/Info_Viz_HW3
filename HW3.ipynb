{
 "cells": [
  {
   "cell_type": "code",
   "execution_count": 1,
   "metadata": {},
   "outputs": [],
   "source": [
    "import pandas as pd\n",
    "import matplotlib.pyplot as plt\n",
    "import numpy as np"
   ]
  },
  {
   "cell_type": "markdown",
   "metadata": {},
   "source": [
    "## Solution 1"
   ]
  },
  {
   "cell_type": "code",
   "execution_count": 2,
   "metadata": {},
   "outputs": [],
   "source": [
    "fiscal_data = pd.read_csv(\"Sdf16_1a.txt\", sep = \"\\t\", low_memory = False)\n",
    "fiscal_data.dropna(inplace = True) "
   ]
  },
  {
   "cell_type": "code",
   "execution_count": 3,
   "metadata": {},
   "outputs": [
    {
     "data": {
      "text/html": [
       "<div>\n",
       "<style scoped>\n",
       "    .dataframe tbody tr th:only-of-type {\n",
       "        vertical-align: middle;\n",
       "    }\n",
       "\n",
       "    .dataframe tbody tr th {\n",
       "        vertical-align: top;\n",
       "    }\n",
       "\n",
       "    .dataframe thead th {\n",
       "        text-align: right;\n",
       "    }\n",
       "</style>\n",
       "<table border=\"1\" class=\"dataframe\">\n",
       "  <thead>\n",
       "    <tr style=\"text-align: right;\">\n",
       "      <th></th>\n",
       "      <th>LEAID</th>\n",
       "      <th>CENSUSID</th>\n",
       "      <th>FIPST</th>\n",
       "      <th>CONUM</th>\n",
       "      <th>CSA</th>\n",
       "      <th>CBSA</th>\n",
       "      <th>NAME</th>\n",
       "      <th>STNAME</th>\n",
       "      <th>STABBR</th>\n",
       "      <th>SCHLEV</th>\n",
       "      <th>...</th>\n",
       "      <th>FL_61V</th>\n",
       "      <th>FL_66V</th>\n",
       "      <th>FL_W01</th>\n",
       "      <th>FL_W31</th>\n",
       "      <th>FL_W61</th>\n",
       "      <th>FL_V95</th>\n",
       "      <th>FL_V02</th>\n",
       "      <th>FL_K14</th>\n",
       "      <th>FL_CE1</th>\n",
       "      <th>FL_CE2</th>\n",
       "    </tr>\n",
       "  </thead>\n",
       "  <tbody>\n",
       "    <tr>\n",
       "      <th>0</th>\n",
       "      <td>0100002</td>\n",
       "      <td>N</td>\n",
       "      <td>1</td>\n",
       "      <td>01073</td>\n",
       "      <td>142</td>\n",
       "      <td>13820</td>\n",
       "      <td>Alabama Youth Services</td>\n",
       "      <td>Alabama</td>\n",
       "      <td>AL</td>\n",
       "      <td>N</td>\n",
       "      <td>...</td>\n",
       "      <td>M</td>\n",
       "      <td>M</td>\n",
       "      <td>M</td>\n",
       "      <td>M</td>\n",
       "      <td>M</td>\n",
       "      <td>M</td>\n",
       "      <td>M</td>\n",
       "      <td>M</td>\n",
       "      <td>M</td>\n",
       "      <td>M</td>\n",
       "    </tr>\n",
       "    <tr>\n",
       "      <th>1</th>\n",
       "      <td>0100005</td>\n",
       "      <td>01504840100000</td>\n",
       "      <td>1</td>\n",
       "      <td>01095</td>\n",
       "      <td>290</td>\n",
       "      <td>10700</td>\n",
       "      <td>Albertville City</td>\n",
       "      <td>Alabama</td>\n",
       "      <td>AL</td>\n",
       "      <td>03</td>\n",
       "      <td>...</td>\n",
       "      <td>M</td>\n",
       "      <td>M</td>\n",
       "      <td>R</td>\n",
       "      <td>R</td>\n",
       "      <td>R</td>\n",
       "      <td>M</td>\n",
       "      <td>M</td>\n",
       "      <td>M</td>\n",
       "      <td>M</td>\n",
       "      <td>M</td>\n",
       "    </tr>\n",
       "    <tr>\n",
       "      <th>2</th>\n",
       "      <td>0100006</td>\n",
       "      <td>01504800100000</td>\n",
       "      <td>1</td>\n",
       "      <td>01095</td>\n",
       "      <td>290</td>\n",
       "      <td>10700</td>\n",
       "      <td>Marshall County</td>\n",
       "      <td>Alabama</td>\n",
       "      <td>AL</td>\n",
       "      <td>03</td>\n",
       "      <td>...</td>\n",
       "      <td>M</td>\n",
       "      <td>M</td>\n",
       "      <td>R</td>\n",
       "      <td>R</td>\n",
       "      <td>R</td>\n",
       "      <td>M</td>\n",
       "      <td>M</td>\n",
       "      <td>M</td>\n",
       "      <td>M</td>\n",
       "      <td>M</td>\n",
       "    </tr>\n",
       "    <tr>\n",
       "      <th>3</th>\n",
       "      <td>0100007</td>\n",
       "      <td>01503740100000</td>\n",
       "      <td>1</td>\n",
       "      <td>01073</td>\n",
       "      <td>142</td>\n",
       "      <td>13820</td>\n",
       "      <td>Hoover City</td>\n",
       "      <td>Alabama</td>\n",
       "      <td>AL</td>\n",
       "      <td>03</td>\n",
       "      <td>...</td>\n",
       "      <td>M</td>\n",
       "      <td>M</td>\n",
       "      <td>R</td>\n",
       "      <td>R</td>\n",
       "      <td>R</td>\n",
       "      <td>M</td>\n",
       "      <td>M</td>\n",
       "      <td>M</td>\n",
       "      <td>M</td>\n",
       "      <td>M</td>\n",
       "    </tr>\n",
       "    <tr>\n",
       "      <th>4</th>\n",
       "      <td>0100008</td>\n",
       "      <td>01504530100000</td>\n",
       "      <td>1</td>\n",
       "      <td>01089</td>\n",
       "      <td>290</td>\n",
       "      <td>26620</td>\n",
       "      <td>Madison City</td>\n",
       "      <td>Alabama</td>\n",
       "      <td>AL</td>\n",
       "      <td>03</td>\n",
       "      <td>...</td>\n",
       "      <td>M</td>\n",
       "      <td>M</td>\n",
       "      <td>R</td>\n",
       "      <td>R</td>\n",
       "      <td>R</td>\n",
       "      <td>M</td>\n",
       "      <td>M</td>\n",
       "      <td>M</td>\n",
       "      <td>M</td>\n",
       "      <td>M</td>\n",
       "    </tr>\n",
       "  </tbody>\n",
       "</table>\n",
       "<p>5 rows × 260 columns</p>\n",
       "</div>"
      ],
      "text/plain": [
       "     LEAID        CENSUSID  FIPST  CONUM  CSA   CBSA                    NAME  \\\n",
       "0  0100002               N      1  01073  142  13820  Alabama Youth Services   \n",
       "1  0100005  01504840100000      1  01095  290  10700        Albertville City   \n",
       "2  0100006  01504800100000      1  01095  290  10700         Marshall County   \n",
       "3  0100007  01503740100000      1  01073  142  13820             Hoover City   \n",
       "4  0100008  01504530100000      1  01089  290  26620            Madison City   \n",
       "\n",
       "    STNAME STABBR SCHLEV  ... FL_61V  FL_66V  FL_W01  FL_W31 FL_W61 FL_V95  \\\n",
       "0  Alabama     AL      N  ...      M       M       M       M      M      M   \n",
       "1  Alabama     AL     03  ...      M       M       R       R      R      M   \n",
       "2  Alabama     AL     03  ...      M       M       R       R      R      M   \n",
       "3  Alabama     AL     03  ...      M       M       R       R      R      M   \n",
       "4  Alabama     AL     03  ...      M       M       R       R      R      M   \n",
       "\n",
       "   FL_V02  FL_K14  FL_CE1  FL_CE2  \n",
       "0       M       M       M       M  \n",
       "1       M       M       M       M  \n",
       "2       M       M       M       M  \n",
       "3       M       M       M       M  \n",
       "4       M       M       M       M  \n",
       "\n",
       "[5 rows x 260 columns]"
      ]
     },
     "execution_count": 3,
     "metadata": {},
     "output_type": "execute_result"
    }
   ],
   "source": [
    "fiscal_data.head()"
   ]
  },
  {
   "cell_type": "code",
   "execution_count": 4,
   "metadata": {},
   "outputs": [],
   "source": [
    "fiscal_data_1 = fiscal_data[['STNAME', 'TFEDREV']].groupby(['STNAME']).sum()"
   ]
  },
  {
   "cell_type": "code",
   "execution_count": 5,
   "metadata": {},
   "outputs": [],
   "source": [
    "fiscal_data_1 = fiscal_data_1.sort_values('TFEDREV', ascending = False).rename(columns = {'TFEDREV': 'federal_funding'})"
   ]
  },
  {
   "cell_type": "code",
   "execution_count": 6,
   "metadata": {},
   "outputs": [],
   "source": [
    "fiscal_data_1['Rank'] = fiscal_data_1['federal_funding'].rank(ascending = 0)"
   ]
  },
  {
   "cell_type": "code",
   "execution_count": 7,
   "metadata": {},
   "outputs": [
    {
     "data": {
      "text/html": [
       "<div>\n",
       "<style scoped>\n",
       "    .dataframe tbody tr th:only-of-type {\n",
       "        vertical-align: middle;\n",
       "    }\n",
       "\n",
       "    .dataframe tbody tr th {\n",
       "        vertical-align: top;\n",
       "    }\n",
       "\n",
       "    .dataframe thead th {\n",
       "        text-align: right;\n",
       "    }\n",
       "</style>\n",
       "<table border=\"1\" class=\"dataframe\">\n",
       "  <thead>\n",
       "    <tr style=\"text-align: right;\">\n",
       "      <th></th>\n",
       "      <th>federal_funding</th>\n",
       "      <th>Rank</th>\n",
       "    </tr>\n",
       "    <tr>\n",
       "      <th>STNAME</th>\n",
       "      <th></th>\n",
       "      <th></th>\n",
       "    </tr>\n",
       "  </thead>\n",
       "  <tbody>\n",
       "    <tr>\n",
       "      <th>California</th>\n",
       "      <td>7709274795</td>\n",
       "      <td>1.0</td>\n",
       "    </tr>\n",
       "    <tr>\n",
       "      <th>Texas</th>\n",
       "      <td>6194316950</td>\n",
       "      <td>2.0</td>\n",
       "    </tr>\n",
       "    <tr>\n",
       "      <th>New York</th>\n",
       "      <td>3374793578</td>\n",
       "      <td>3.0</td>\n",
       "    </tr>\n",
       "    <tr>\n",
       "      <th>Florida</th>\n",
       "      <td>3147328988</td>\n",
       "      <td>4.0</td>\n",
       "    </tr>\n",
       "    <tr>\n",
       "      <th>Illinois</th>\n",
       "      <td>2334944853</td>\n",
       "      <td>5.0</td>\n",
       "    </tr>\n",
       "    <tr>\n",
       "      <th>Pennsylvania</th>\n",
       "      <td>2037314939</td>\n",
       "      <td>6.0</td>\n",
       "    </tr>\n",
       "    <tr>\n",
       "      <th>Ohio</th>\n",
       "      <td>1837962930</td>\n",
       "      <td>7.0</td>\n",
       "    </tr>\n",
       "    <tr>\n",
       "      <th>Georgia</th>\n",
       "      <td>1815241986</td>\n",
       "      <td>8.0</td>\n",
       "    </tr>\n",
       "    <tr>\n",
       "      <th>Michigan</th>\n",
       "      <td>1731033937</td>\n",
       "      <td>9.0</td>\n",
       "    </tr>\n",
       "    <tr>\n",
       "      <th>North Carolina</th>\n",
       "      <td>1587975932</td>\n",
       "      <td>10.0</td>\n",
       "    </tr>\n",
       "  </tbody>\n",
       "</table>\n",
       "</div>"
      ],
      "text/plain": [
       "                federal_funding  Rank\n",
       "STNAME                               \n",
       "California           7709274795   1.0\n",
       "Texas                6194316950   2.0\n",
       "New York             3374793578   3.0\n",
       "Florida              3147328988   4.0\n",
       "Illinois             2334944853   5.0\n",
       "Pennsylvania         2037314939   6.0\n",
       "Ohio                 1837962930   7.0\n",
       "Georgia              1815241986   8.0\n",
       "Michigan             1731033937   9.0\n",
       "North Carolina       1587975932  10.0"
      ]
     },
     "execution_count": 7,
     "metadata": {},
     "output_type": "execute_result"
    }
   ],
   "source": [
    "fiscal_data_1[:10]"
   ]
  },
  {
   "cell_type": "code",
   "execution_count": 8,
   "metadata": {},
   "outputs": [
    {
     "data": {
      "text/html": [
       "<div>\n",
       "<style scoped>\n",
       "    .dataframe tbody tr th:only-of-type {\n",
       "        vertical-align: middle;\n",
       "    }\n",
       "\n",
       "    .dataframe tbody tr th {\n",
       "        vertical-align: top;\n",
       "    }\n",
       "\n",
       "    .dataframe thead th {\n",
       "        text-align: right;\n",
       "    }\n",
       "</style>\n",
       "<table border=\"1\" class=\"dataframe\">\n",
       "  <thead>\n",
       "    <tr style=\"text-align: right;\">\n",
       "      <th></th>\n",
       "      <th>federal_funding</th>\n",
       "      <th>Rank</th>\n",
       "    </tr>\n",
       "    <tr>\n",
       "      <th>STNAME</th>\n",
       "      <th></th>\n",
       "      <th></th>\n",
       "    </tr>\n",
       "  </thead>\n",
       "  <tbody>\n",
       "    <tr>\n",
       "      <th>District of Columbia</th>\n",
       "      <td>226201985</td>\n",
       "      <td>42.0</td>\n",
       "    </tr>\n",
       "    <tr>\n",
       "      <th>Montana</th>\n",
       "      <td>220339869</td>\n",
       "      <td>43.0</td>\n",
       "    </tr>\n",
       "    <tr>\n",
       "      <th>South Dakota</th>\n",
       "      <td>196643958</td>\n",
       "      <td>44.0</td>\n",
       "    </tr>\n",
       "    <tr>\n",
       "      <th>Rhode Island</th>\n",
       "      <td>188203996</td>\n",
       "      <td>45.0</td>\n",
       "    </tr>\n",
       "    <tr>\n",
       "      <th>Maine</th>\n",
       "      <td>186522987</td>\n",
       "      <td>46.0</td>\n",
       "    </tr>\n",
       "    <tr>\n",
       "      <th>New Hampshire</th>\n",
       "      <td>169165780</td>\n",
       "      <td>47.0</td>\n",
       "    </tr>\n",
       "    <tr>\n",
       "      <th>North Dakota</th>\n",
       "      <td>155452961</td>\n",
       "      <td>48.0</td>\n",
       "    </tr>\n",
       "    <tr>\n",
       "      <th>Delaware</th>\n",
       "      <td>144706995</td>\n",
       "      <td>49.0</td>\n",
       "    </tr>\n",
       "    <tr>\n",
       "      <th>Wyoming</th>\n",
       "      <td>123011974</td>\n",
       "      <td>50.0</td>\n",
       "    </tr>\n",
       "    <tr>\n",
       "      <th>Vermont</th>\n",
       "      <td>111890912</td>\n",
       "      <td>51.0</td>\n",
       "    </tr>\n",
       "  </tbody>\n",
       "</table>\n",
       "</div>"
      ],
      "text/plain": [
       "                      federal_funding  Rank\n",
       "STNAME                                     \n",
       "District of Columbia        226201985  42.0\n",
       "Montana                     220339869  43.0\n",
       "South Dakota                196643958  44.0\n",
       "Rhode Island                188203996  45.0\n",
       "Maine                       186522987  46.0\n",
       "New Hampshire               169165780  47.0\n",
       "North Dakota                155452961  48.0\n",
       "Delaware                    144706995  49.0\n",
       "Wyoming                     123011974  50.0\n",
       "Vermont                     111890912  51.0"
      ]
     },
     "execution_count": 8,
     "metadata": {},
     "output_type": "execute_result"
    }
   ],
   "source": [
    "fiscal_data_1[-10:]"
   ]
  },
  {
   "cell_type": "code",
   "execution_count": 9,
   "metadata": {},
   "outputs": [
    {
     "data": {
      "image/png": "[encoded data removed]",
      "text/plain": [
       "<Figure size 1440x1080 with 1 Axes>"
      ]
     },
     "metadata": {
      "needs_background": "light"
     },
     "output_type": "display_data"
    }
   ],
   "source": [
    "plt.figure(figsize = (20,15))\n",
    "plt.barh(fiscal_data_1.index, fiscal_data_1['federal_funding'])\n",
    "plt.xlabel(\"Federal Funding(Revenue)\", size=20)\n",
    "plt.ylabel(\"States\", size=20)\n",
    "plt.title(\"Federal Funding by States\", size=24)\n",
    "plt.savefig('q11.png')\n",
    "plt.show()"
   ]
  },
  {
   "cell_type": "code",
   "execution_count": 10,
   "metadata": {},
   "outputs": [],
   "source": [
    "fiscal_data_2 = fiscal_data[['STNAME', 'TFEDREV', 'V33']].groupby(['STNAME']).sum()"
   ]
  },
  {
   "cell_type": "code",
   "execution_count": 11,
   "metadata": {},
   "outputs": [],
   "source": [
    "fiscal_data_2['federal funding per student'] = fiscal_data_2['TFEDREV'] / fiscal_data_2['V33']"
   ]
  },
  {
   "cell_type": "code",
   "execution_count": 12,
   "metadata": {},
   "outputs": [],
   "source": [
    "fiscal_data_2 = fiscal_data_2.sort_values('federal funding per student', ascending = False).drop(['TFEDREV', 'V33'], axis= 1)"
   ]
  },
  {
   "cell_type": "code",
   "execution_count": 13,
   "metadata": {},
   "outputs": [],
   "source": [
    "fiscal_data_2['Rank'] = fiscal_data_2['federal funding per student'].rank(ascending = 0)"
   ]
  },
  {
   "cell_type": "code",
   "execution_count": 14,
   "metadata": {},
   "outputs": [
    {
     "data": {
      "text/html": [
       "<div>\n",
       "<style scoped>\n",
       "    .dataframe tbody tr th:only-of-type {\n",
       "        vertical-align: middle;\n",
       "    }\n",
       "\n",
       "    .dataframe tbody tr th {\n",
       "        vertical-align: top;\n",
       "    }\n",
       "\n",
       "    .dataframe thead th {\n",
       "        text-align: right;\n",
       "    }\n",
       "</style>\n",
       "<table border=\"1\" class=\"dataframe\">\n",
       "  <thead>\n",
       "    <tr style=\"text-align: right;\">\n",
       "      <th></th>\n",
       "      <th>federal funding per student</th>\n",
       "      <th>Rank</th>\n",
       "    </tr>\n",
       "    <tr>\n",
       "      <th>STNAME</th>\n",
       "      <th></th>\n",
       "      <th></th>\n",
       "    </tr>\n",
       "  </thead>\n",
       "  <tbody>\n",
       "    <tr>\n",
       "      <th>District of Columbia</th>\n",
       "      <td>2713.262544</td>\n",
       "      <td>1.0</td>\n",
       "    </tr>\n",
       "    <tr>\n",
       "      <th>Alaska</th>\n",
       "      <td>2319.798908</td>\n",
       "      <td>2.0</td>\n",
       "    </tr>\n",
       "    <tr>\n",
       "      <th>Louisiana</th>\n",
       "      <td>1552.709811</td>\n",
       "      <td>3.0</td>\n",
       "    </tr>\n",
       "    <tr>\n",
       "      <th>New Mexico</th>\n",
       "      <td>1537.993342</td>\n",
       "      <td>4.0</td>\n",
       "    </tr>\n",
       "    <tr>\n",
       "      <th>Montana</th>\n",
       "      <td>1518.538036</td>\n",
       "      <td>5.0</td>\n",
       "    </tr>\n",
       "    <tr>\n",
       "      <th>South Dakota</th>\n",
       "      <td>1467.240384</td>\n",
       "      <td>6.0</td>\n",
       "    </tr>\n",
       "    <tr>\n",
       "      <th>Hawaii</th>\n",
       "      <td>1434.825133</td>\n",
       "      <td>7.0</td>\n",
       "    </tr>\n",
       "    <tr>\n",
       "      <th>North Dakota</th>\n",
       "      <td>1432.350143</td>\n",
       "      <td>8.0</td>\n",
       "    </tr>\n",
       "    <tr>\n",
       "      <th>Mississippi</th>\n",
       "      <td>1417.876006</td>\n",
       "      <td>9.0</td>\n",
       "    </tr>\n",
       "    <tr>\n",
       "      <th>Rhode Island</th>\n",
       "      <td>1327.287060</td>\n",
       "      <td>10.0</td>\n",
       "    </tr>\n",
       "  </tbody>\n",
       "</table>\n",
       "</div>"
      ],
      "text/plain": [
       "                      federal funding per student  Rank\n",
       "STNAME                                                 \n",
       "District of Columbia                  2713.262544   1.0\n",
       "Alaska                                2319.798908   2.0\n",
       "Louisiana                             1552.709811   3.0\n",
       "New Mexico                            1537.993342   4.0\n",
       "Montana                               1518.538036   5.0\n",
       "South Dakota                          1467.240384   6.0\n",
       "Hawaii                                1434.825133   7.0\n",
       "North Dakota                          1432.350143   8.0\n",
       "Mississippi                           1417.876006   9.0\n",
       "Rhode Island                          1327.287060  10.0"
      ]
     },
     "execution_count": 14,
     "metadata": {},
     "output_type": "execute_result"
    }
   ],
   "source": [
    "fiscal_data_2[:10]"
   ]
  },
  {
   "cell_type": "code",
   "execution_count": 15,
   "metadata": {},
   "outputs": [
    {
     "data": {
      "text/html": [
       "<div>\n",
       "<style scoped>\n",
       "    .dataframe tbody tr th:only-of-type {\n",
       "        vertical-align: middle;\n",
       "    }\n",
       "\n",
       "    .dataframe tbody tr th {\n",
       "        vertical-align: top;\n",
       "    }\n",
       "\n",
       "    .dataframe thead th {\n",
       "        text-align: right;\n",
       "    }\n",
       "</style>\n",
       "<table border=\"1\" class=\"dataframe\">\n",
       "  <thead>\n",
       "    <tr style=\"text-align: right;\">\n",
       "      <th></th>\n",
       "      <th>federal funding per student</th>\n",
       "      <th>Rank</th>\n",
       "    </tr>\n",
       "    <tr>\n",
       "      <th>STNAME</th>\n",
       "      <th></th>\n",
       "      <th></th>\n",
       "    </tr>\n",
       "  </thead>\n",
       "  <tbody>\n",
       "    <tr>\n",
       "      <th>Iowa</th>\n",
       "      <td>915.077395</td>\n",
       "      <td>42.0</td>\n",
       "    </tr>\n",
       "    <tr>\n",
       "      <th>Wisconsin</th>\n",
       "      <td>901.924665</td>\n",
       "      <td>43.0</td>\n",
       "    </tr>\n",
       "    <tr>\n",
       "      <th>New Jersey</th>\n",
       "      <td>887.514409</td>\n",
       "      <td>44.0</td>\n",
       "    </tr>\n",
       "    <tr>\n",
       "      <th>Nevada</th>\n",
       "      <td>867.947733</td>\n",
       "      <td>45.0</td>\n",
       "    </tr>\n",
       "    <tr>\n",
       "      <th>Idaho</th>\n",
       "      <td>850.742049</td>\n",
       "      <td>46.0</td>\n",
       "    </tr>\n",
       "    <tr>\n",
       "      <th>Massachusetts</th>\n",
       "      <td>834.623055</td>\n",
       "      <td>47.0</td>\n",
       "    </tr>\n",
       "    <tr>\n",
       "      <th>Virginia</th>\n",
       "      <td>824.461967</td>\n",
       "      <td>48.0</td>\n",
       "    </tr>\n",
       "    <tr>\n",
       "      <th>Colorado</th>\n",
       "      <td>805.685833</td>\n",
       "      <td>49.0</td>\n",
       "    </tr>\n",
       "    <tr>\n",
       "      <th>Minnesota</th>\n",
       "      <td>794.707961</td>\n",
       "      <td>50.0</td>\n",
       "    </tr>\n",
       "    <tr>\n",
       "      <th>Utah</th>\n",
       "      <td>647.762581</td>\n",
       "      <td>51.0</td>\n",
       "    </tr>\n",
       "  </tbody>\n",
       "</table>\n",
       "</div>"
      ],
      "text/plain": [
       "               federal funding per student  Rank\n",
       "STNAME                                          \n",
       "Iowa                            915.077395  42.0\n",
       "Wisconsin                       901.924665  43.0\n",
       "New Jersey                      887.514409  44.0\n",
       "Nevada                          867.947733  45.0\n",
       "Idaho                           850.742049  46.0\n",
       "Massachusetts                   834.623055  47.0\n",
       "Virginia                        824.461967  48.0\n",
       "Colorado                        805.685833  49.0\n",
       "Minnesota                       794.707961  50.0\n",
       "Utah                            647.762581  51.0"
      ]
     },
     "execution_count": 15,
     "metadata": {},
     "output_type": "execute_result"
    }
   ],
   "source": [
    "fiscal_data_2[-10:]"
   ]
  },
  {
   "cell_type": "code",
   "execution_count": 16,
   "metadata": {},
   "outputs": [
    {
     "data": {
      "image/png": "[encoded data removed]",
      "text/plain": [
       "<Figure size 1440x1080 with 1 Axes>"
      ]
     },
     "metadata": {
      "needs_background": "light"
     },
     "output_type": "display_data"
    }
   ],
   "source": [
    "plt.figure(figsize = (20,15))\n",
    "plt.barh(fiscal_data_2.index, fiscal_data_2['federal funding per student'])\n",
    "plt.xlabel(\"Federal Funding per Student(USD)\", size=20)\n",
    "plt.ylabel(\"States\",size=20)\n",
    "plt.title(\"Federal Funding per Student by States\",size=24)\n",
    "plt.savefig(\"q12.png\")\n",
    "plt.show()"
   ]
  },
  {
   "cell_type": "markdown",
   "metadata": {},
   "source": [
    "## Solution 2"
   ]
  },
  {
   "cell_type": "code",
   "execution_count": 17,
   "metadata": {},
   "outputs": [
    {
     "data": {
      "image/png": "[encoded data removed]",
      "text/plain": [
       "<Figure size 432x288 with 1 Axes>"
      ]
     },
     "metadata": {
      "needs_background": "light"
     },
     "output_type": "display_data"
    }
   ],
   "source": [
    "plt.scatter(fiscal_data['TOTALREV'], fiscal_data['TOTALEXP'], alpha = 0.5)\n",
    "plt.xlabel(\"Total Revenue\", size=14)\n",
    "plt.ylabel(\"Total Expenditure\",size=14)\n",
    "plt.title(\"Relationship between Revenue and Expenditure\",size=16, y=1.05)\n",
    "plt.savefig(\"q21.png\")\n",
    "plt.show()"
   ]
  },
  {
   "cell_type": "code",
   "execution_count": null,
   "metadata": {},
   "outputs": [],
   "source": []
  },
  {
   "cell_type": "code",
   "execution_count": 18,
   "metadata": {},
   "outputs": [],
   "source": [
    "fiscal_data_3 = fiscal_data[['TOTALREV', 'TOTALEXP']]"
   ]
  },
  {
   "cell_type": "code",
   "execution_count": 19,
   "metadata": {},
   "outputs": [],
   "source": [
    "fiscal_data_3 = fiscal_data_3.drop(fiscal_data_3[fiscal_data_3.TOTALREV <= 0].index)"
   ]
  },
  {
   "cell_type": "code",
   "execution_count": 20,
   "metadata": {},
   "outputs": [],
   "source": [
    "fiscal_data_3 = fiscal_data_3.drop(fiscal_data_3[fiscal_data_3.TOTALEXP <= 0].index)"
   ]
  },
  {
   "cell_type": "code",
   "execution_count": 21,
   "metadata": {},
   "outputs": [],
   "source": [
    "fiscal_data_3['percentage of revenue spent'] = (fiscal_data_3['TOTALEXP'] / fiscal_data_3['TOTALREV']) * 100"
   ]
  },
  {
   "cell_type": "code",
   "execution_count": 22,
   "metadata": {},
   "outputs": [
    {
     "data": {
      "image/png": "[encoded data removed]",
      "text/plain": [
       "<Figure size 432x288 with 1 Axes>"
      ]
     },
     "metadata": {
      "needs_background": "light"
     },
     "output_type": "display_data"
    }
   ],
   "source": [
    "plt.hist(fiscal_data_3['percentage of revenue spent'], bins = 30, range=(40, 200))\n",
    "plt.vlines(100, 0, 5000, color = 'red')\n",
    "plt.xlabel(\"% Revenue Spent (Expenditure)\", size=14)\n",
    "plt.ylabel(\"No. of School District\",size=14)\n",
    "plt.title(\"Relationship between Revenue and Expenditure for School District\",size=16, y=1.05)\n",
    "plt.savefig(\"q22.png\")\n",
    "plt.show()"
   ]
  },
  {
   "cell_type": "code",
   "execution_count": 23,
   "metadata": {},
   "outputs": [],
   "source": [
    "fiscal_data_4 = fiscal_data[['STNAME', '_66V', '_41F', 'V33']].groupby(['STNAME']).sum()"
   ]
  },
  {
   "cell_type": "code",
   "execution_count": 24,
   "metadata": {},
   "outputs": [],
   "source": [
    "fiscal_data_4['debts per student'] = (fiscal_data_4['_66V'] + fiscal_data_4['_41F']) / fiscal_data_4['V33']"
   ]
  },
  {
   "cell_type": "code",
   "execution_count": 25,
   "metadata": {},
   "outputs": [],
   "source": [
    "fiscal_data_4 = fiscal_data_4.sort_values('debts per student', ascending = False).drop(['_66V', '_41F', 'V33'], axis= 1)"
   ]
  },
  {
   "cell_type": "code",
   "execution_count": 26,
   "metadata": {},
   "outputs": [],
   "source": [
    "fiscal_data_4['Rank'] = fiscal_data_4['debts per student'].rank(ascending = 0)"
   ]
  },
  {
   "cell_type": "code",
   "execution_count": 27,
   "metadata": {},
   "outputs": [
    {
     "data": {
      "text/html": [
       "<div>\n",
       "<style scoped>\n",
       "    .dataframe tbody tr th:only-of-type {\n",
       "        vertical-align: middle;\n",
       "    }\n",
       "\n",
       "    .dataframe tbody tr th {\n",
       "        vertical-align: top;\n",
       "    }\n",
       "\n",
       "    .dataframe thead th {\n",
       "        text-align: right;\n",
       "    }\n",
       "</style>\n",
       "<table border=\"1\" class=\"dataframe\">\n",
       "  <thead>\n",
       "    <tr style=\"text-align: right;\">\n",
       "      <th></th>\n",
       "      <th>debts per student</th>\n",
       "      <th>Rank</th>\n",
       "    </tr>\n",
       "    <tr>\n",
       "      <th>STNAME</th>\n",
       "      <th></th>\n",
       "      <th></th>\n",
       "    </tr>\n",
       "  </thead>\n",
       "  <tbody>\n",
       "    <tr>\n",
       "      <th>South Carolina</th>\n",
       "      <td>18363.631456</td>\n",
       "      <td>1.0</td>\n",
       "    </tr>\n",
       "    <tr>\n",
       "      <th>Minnesota</th>\n",
       "      <td>15604.977027</td>\n",
       "      <td>2.0</td>\n",
       "    </tr>\n",
       "    <tr>\n",
       "      <th>Texas</th>\n",
       "      <td>14831.382755</td>\n",
       "      <td>3.0</td>\n",
       "    </tr>\n",
       "    <tr>\n",
       "      <th>Pennsylvania</th>\n",
       "      <td>14469.028056</td>\n",
       "      <td>4.0</td>\n",
       "    </tr>\n",
       "    <tr>\n",
       "      <th>Michigan</th>\n",
       "      <td>12370.770468</td>\n",
       "      <td>5.0</td>\n",
       "    </tr>\n",
       "    <tr>\n",
       "      <th>Oregon</th>\n",
       "      <td>11973.637146</td>\n",
       "      <td>6.0</td>\n",
       "    </tr>\n",
       "    <tr>\n",
       "      <th>Kansas</th>\n",
       "      <td>11231.538383</td>\n",
       "      <td>7.0</td>\n",
       "    </tr>\n",
       "    <tr>\n",
       "      <th>New York</th>\n",
       "      <td>10981.059960</td>\n",
       "      <td>8.0</td>\n",
       "    </tr>\n",
       "    <tr>\n",
       "      <th>Washington</th>\n",
       "      <td>10491.974480</td>\n",
       "      <td>9.0</td>\n",
       "    </tr>\n",
       "    <tr>\n",
       "      <th>Alaska</th>\n",
       "      <td>10360.492765</td>\n",
       "      <td>10.0</td>\n",
       "    </tr>\n",
       "  </tbody>\n",
       "</table>\n",
       "</div>"
      ],
      "text/plain": [
       "                debts per student  Rank\n",
       "STNAME                                 \n",
       "South Carolina       18363.631456   1.0\n",
       "Minnesota            15604.977027   2.0\n",
       "Texas                14831.382755   3.0\n",
       "Pennsylvania         14469.028056   4.0\n",
       "Michigan             12370.770468   5.0\n",
       "Oregon               11973.637146   6.0\n",
       "Kansas               11231.538383   7.0\n",
       "New York             10981.059960   8.0\n",
       "Washington           10491.974480   9.0\n",
       "Alaska               10360.492765  10.0"
      ]
     },
     "execution_count": 27,
     "metadata": {},
     "output_type": "execute_result"
    }
   ],
   "source": [
    "fiscal_data_4[:10]"
   ]
  },
  {
   "cell_type": "code",
   "execution_count": 28,
   "metadata": {},
   "outputs": [
    {
     "data": {
      "text/html": [
       "<div>\n",
       "<style scoped>\n",
       "    .dataframe tbody tr th:only-of-type {\n",
       "        vertical-align: middle;\n",
       "    }\n",
       "\n",
       "    .dataframe tbody tr th {\n",
       "        vertical-align: top;\n",
       "    }\n",
       "\n",
       "    .dataframe thead th {\n",
       "        text-align: right;\n",
       "    }\n",
       "</style>\n",
       "<table border=\"1\" class=\"dataframe\">\n",
       "  <thead>\n",
       "    <tr style=\"text-align: right;\">\n",
       "      <th></th>\n",
       "      <th>debts per student</th>\n",
       "      <th>Rank</th>\n",
       "    </tr>\n",
       "    <tr>\n",
       "      <th>STNAME</th>\n",
       "      <th></th>\n",
       "      <th></th>\n",
       "    </tr>\n",
       "  </thead>\n",
       "  <tbody>\n",
       "    <tr>\n",
       "      <th>Connecticut</th>\n",
       "      <td>4739.037225</td>\n",
       "      <td>42.0</td>\n",
       "    </tr>\n",
       "    <tr>\n",
       "      <th>Delaware</th>\n",
       "      <td>4639.157446</td>\n",
       "      <td>43.0</td>\n",
       "    </tr>\n",
       "    <tr>\n",
       "      <th>Arizona</th>\n",
       "      <td>4593.448401</td>\n",
       "      <td>44.0</td>\n",
       "    </tr>\n",
       "    <tr>\n",
       "      <th>Mississippi</th>\n",
       "      <td>3336.708589</td>\n",
       "      <td>45.0</td>\n",
       "    </tr>\n",
       "    <tr>\n",
       "      <th>Oklahoma</th>\n",
       "      <td>3147.283405</td>\n",
       "      <td>46.0</td>\n",
       "    </tr>\n",
       "    <tr>\n",
       "      <th>Vermont</th>\n",
       "      <td>2989.878919</td>\n",
       "      <td>47.0</td>\n",
       "    </tr>\n",
       "    <tr>\n",
       "      <th>Georgia</th>\n",
       "      <td>2585.728214</td>\n",
       "      <td>48.0</td>\n",
       "    </tr>\n",
       "    <tr>\n",
       "      <th>West Virginia</th>\n",
       "      <td>1246.413587</td>\n",
       "      <td>49.0</td>\n",
       "    </tr>\n",
       "    <tr>\n",
       "      <th>Wyoming</th>\n",
       "      <td>663.188799</td>\n",
       "      <td>50.0</td>\n",
       "    </tr>\n",
       "    <tr>\n",
       "      <th>Hawaii</th>\n",
       "      <td>0.000000</td>\n",
       "      <td>51.0</td>\n",
       "    </tr>\n",
       "  </tbody>\n",
       "</table>\n",
       "</div>"
      ],
      "text/plain": [
       "               debts per student  Rank\n",
       "STNAME                                \n",
       "Connecticut          4739.037225  42.0\n",
       "Delaware             4639.157446  43.0\n",
       "Arizona              4593.448401  44.0\n",
       "Mississippi          3336.708589  45.0\n",
       "Oklahoma             3147.283405  46.0\n",
       "Vermont              2989.878919  47.0\n",
       "Georgia              2585.728214  48.0\n",
       "West Virginia        1246.413587  49.0\n",
       "Wyoming               663.188799  50.0\n",
       "Hawaii                  0.000000  51.0"
      ]
     },
     "execution_count": 28,
     "metadata": {},
     "output_type": "execute_result"
    }
   ],
   "source": [
    "fiscal_data_4[-10:]"
   ]
  },
  {
   "cell_type": "code",
   "execution_count": 29,
   "metadata": {},
   "outputs": [
    {
     "data": {
      "image/png": "[encoded data removed]",
      "text/plain": [
       "<Figure size 1440x1080 with 1 Axes>"
      ]
     },
     "metadata": {
      "needs_background": "light"
     },
     "output_type": "display_data"
    }
   ],
   "source": [
    "plt.figure(figsize = (20,15))\n",
    "plt.barh(fiscal_data_4.index, fiscal_data_4['debts per student'])\n",
    "plt.xlabel(\"Debt per Student\", size=20)\n",
    "plt.ylabel(\"US States\",size=20)\n",
    "plt.title(\"Debt per Student for US States\",size=24)\n",
    "plt.savefig(\"q23.png\")\n",
    "plt.show()"
   ]
  },
  {
   "cell_type": "markdown",
   "metadata": {},
   "source": [
    "## Solution 3"
   ]
  },
  {
   "cell_type": "code",
   "execution_count": 51,
   "metadata": {},
   "outputs": [],
   "source": [
    "math_achievement_data = pd.read_csv(\"math-achievement-lea-sy2015-16.csv\", low_memory=False)"
   ]
  },
  {
   "cell_type": "code",
   "execution_count": 52,
   "metadata": {},
   "outputs": [
    {
     "data": {
      "text/html": [
       "<div>\n",
       "<style scoped>\n",
       "    .dataframe tbody tr th:only-of-type {\n",
       "        vertical-align: middle;\n",
       "    }\n",
       "\n",
       "    .dataframe tbody tr th {\n",
       "        vertical-align: top;\n",
       "    }\n",
       "\n",
       "    .dataframe thead th {\n",
       "        text-align: right;\n",
       "    }\n",
       "</style>\n",
       "<table border=\"1\" class=\"dataframe\">\n",
       "  <thead>\n",
       "    <tr style=\"text-align: right;\">\n",
       "      <th></th>\n",
       "      <th>STNAM</th>\n",
       "      <th>FIPST</th>\n",
       "      <th>LEAID</th>\n",
       "      <th>LEANM</th>\n",
       "      <th>DATE_CUR</th>\n",
       "      <th>ALL_MTH00NUMVALID_1516</th>\n",
       "      <th>ALL_MTH00PCTPROF_1516</th>\n",
       "      <th>MAM_MTH00NUMVALID_1516</th>\n",
       "      <th>MAM_MTH00PCTPROF_1516</th>\n",
       "      <th>MAS_MTH00NUMVALID_1516</th>\n",
       "      <th>...</th>\n",
       "      <th>MIG_MTH05NUMVALID_1516</th>\n",
       "      <th>MIG_MTH05PCTPROF_1516</th>\n",
       "      <th>MIG_MTH06NUMVALID_1516</th>\n",
       "      <th>MIG_MTH06PCTPROF_1516</th>\n",
       "      <th>MIG_MTH07NUMVALID_1516</th>\n",
       "      <th>MIG_MTH07PCTPROF_1516</th>\n",
       "      <th>MIG_MTH08NUMVALID_1516</th>\n",
       "      <th>MIG_MTH08PCTPROF_1516</th>\n",
       "      <th>MIG_MTHHSNUMVALID_1516</th>\n",
       "      <th>MIG_MTHHSPCTPROF_1516</th>\n",
       "    </tr>\n",
       "  </thead>\n",
       "  <tbody>\n",
       "    <tr>\n",
       "      <th>0</th>\n",
       "      <td>ALABAMA</td>\n",
       "      <td>1</td>\n",
       "      <td>100005</td>\n",
       "      <td>Albertville City</td>\n",
       "      <td>14APR17</td>\n",
       "      <td>2638</td>\n",
       "      <td>42</td>\n",
       "      <td>5</td>\n",
       "      <td>PS</td>\n",
       "      <td>12</td>\n",
       "      <td>...</td>\n",
       "      <td>28</td>\n",
       "      <td>LE20</td>\n",
       "      <td>16</td>\n",
       "      <td>LE20</td>\n",
       "      <td>19</td>\n",
       "      <td>21-39</td>\n",
       "      <td>20</td>\n",
       "      <td>LE20</td>\n",
       "      <td>8</td>\n",
       "      <td>LT50</td>\n",
       "    </tr>\n",
       "    <tr>\n",
       "      <th>1</th>\n",
       "      <td>ALABAMA</td>\n",
       "      <td>1</td>\n",
       "      <td>100006</td>\n",
       "      <td>Marshall County</td>\n",
       "      <td>14APR17</td>\n",
       "      <td>3003</td>\n",
       "      <td>39</td>\n",
       "      <td>16</td>\n",
       "      <td>21-39</td>\n",
       "      <td>13</td>\n",
       "      <td>...</td>\n",
       "      <td>6</td>\n",
       "      <td>LT50</td>\n",
       "      <td>4</td>\n",
       "      <td>PS</td>\n",
       "      <td>4</td>\n",
       "      <td>PS</td>\n",
       "      <td>4</td>\n",
       "      <td>PS</td>\n",
       "      <td>2</td>\n",
       "      <td>PS</td>\n",
       "    </tr>\n",
       "    <tr>\n",
       "      <th>2</th>\n",
       "      <td>ALABAMA</td>\n",
       "      <td>1</td>\n",
       "      <td>100007</td>\n",
       "      <td>Hoover City</td>\n",
       "      <td>14APR17</td>\n",
       "      <td>7356</td>\n",
       "      <td>66</td>\n",
       "      <td>8</td>\n",
       "      <td>GE50</td>\n",
       "      <td>515</td>\n",
       "      <td>...</td>\n",
       "      <td>NaN</td>\n",
       "      <td>NaN</td>\n",
       "      <td>NaN</td>\n",
       "      <td>NaN</td>\n",
       "      <td>NaN</td>\n",
       "      <td>NaN</td>\n",
       "      <td>NaN</td>\n",
       "      <td>NaN</td>\n",
       "      <td>NaN</td>\n",
       "      <td>NaN</td>\n",
       "    </tr>\n",
       "    <tr>\n",
       "      <th>3</th>\n",
       "      <td>ALABAMA</td>\n",
       "      <td>1</td>\n",
       "      <td>100008</td>\n",
       "      <td>Madison City</td>\n",
       "      <td>14APR17</td>\n",
       "      <td>5482</td>\n",
       "      <td>72</td>\n",
       "      <td>30</td>\n",
       "      <td>60-79</td>\n",
       "      <td>501</td>\n",
       "      <td>...</td>\n",
       "      <td>NaN</td>\n",
       "      <td>NaN</td>\n",
       "      <td>NaN</td>\n",
       "      <td>NaN</td>\n",
       "      <td>NaN</td>\n",
       "      <td>NaN</td>\n",
       "      <td>NaN</td>\n",
       "      <td>NaN</td>\n",
       "      <td>NaN</td>\n",
       "      <td>NaN</td>\n",
       "    </tr>\n",
       "    <tr>\n",
       "      <th>4</th>\n",
       "      <td>ALABAMA</td>\n",
       "      <td>1</td>\n",
       "      <td>100011</td>\n",
       "      <td>Leeds City</td>\n",
       "      <td>14APR17</td>\n",
       "      <td>1024</td>\n",
       "      <td>37</td>\n",
       "      <td>1</td>\n",
       "      <td>PS</td>\n",
       "      <td>10</td>\n",
       "      <td>...</td>\n",
       "      <td>NaN</td>\n",
       "      <td>NaN</td>\n",
       "      <td>NaN</td>\n",
       "      <td>NaN</td>\n",
       "      <td>NaN</td>\n",
       "      <td>NaN</td>\n",
       "      <td>NaN</td>\n",
       "      <td>NaN</td>\n",
       "      <td>NaN</td>\n",
       "      <td>NaN</td>\n",
       "    </tr>\n",
       "  </tbody>\n",
       "</table>\n",
       "<p>5 rows × 229 columns</p>\n",
       "</div>"
      ],
      "text/plain": [
       "     STNAM  FIPST   LEAID             LEANM DATE_CUR  ALL_MTH00NUMVALID_1516  \\\n",
       "0  ALABAMA      1  100005  Albertville City  14APR17                    2638   \n",
       "1  ALABAMA      1  100006   Marshall County  14APR17                    3003   \n",
       "2  ALABAMA      1  100007       Hoover City  14APR17                    7356   \n",
       "3  ALABAMA      1  100008      Madison City  14APR17                    5482   \n",
       "4  ALABAMA      1  100011        Leeds City  14APR17                    1024   \n",
       "\n",
       "  ALL_MTH00PCTPROF_1516 MAM_MTH00NUMVALID_1516 MAM_MTH00PCTPROF_1516  \\\n",
       "0                    42                      5                    PS   \n",
       "1                    39                     16                 21-39   \n",
       "2                    66                      8                  GE50   \n",
       "3                    72                     30                 60-79   \n",
       "4                    37                      1                    PS   \n",
       "\n",
       "  MAS_MTH00NUMVALID_1516  ... MIG_MTH05NUMVALID_1516 MIG_MTH05PCTPROF_1516  \\\n",
       "0                     12  ...                     28                  LE20   \n",
       "1                     13  ...                      6                  LT50   \n",
       "2                    515  ...                    NaN                   NaN   \n",
       "3                    501  ...                    NaN                   NaN   \n",
       "4                     10  ...                    NaN                   NaN   \n",
       "\n",
       "  MIG_MTH06NUMVALID_1516 MIG_MTH06PCTPROF_1516 MIG_MTH07NUMVALID_1516  \\\n",
       "0                     16                  LE20                     19   \n",
       "1                      4                    PS                      4   \n",
       "2                    NaN                   NaN                    NaN   \n",
       "3                    NaN                   NaN                    NaN   \n",
       "4                    NaN                   NaN                    NaN   \n",
       "\n",
       "  MIG_MTH07PCTPROF_1516 MIG_MTH08NUMVALID_1516 MIG_MTH08PCTPROF_1516  \\\n",
       "0                 21-39                     20                  LE20   \n",
       "1                    PS                      4                    PS   \n",
       "2                   NaN                    NaN                   NaN   \n",
       "3                   NaN                    NaN                   NaN   \n",
       "4                   NaN                    NaN                   NaN   \n",
       "\n",
       "  MIG_MTHHSNUMVALID_1516 MIG_MTHHSPCTPROF_1516  \n",
       "0                      8                  LT50  \n",
       "1                      2                    PS  \n",
       "2                    NaN                   NaN  \n",
       "3                    NaN                   NaN  \n",
       "4                    NaN                   NaN  \n",
       "\n",
       "[5 rows x 229 columns]"
      ]
     },
     "execution_count": 52,
     "metadata": {},
     "output_type": "execute_result"
    }
   ],
   "source": [
    "math_achievement_data.head()"
   ]
  },
  {
   "cell_type": "code",
   "execution_count": 53,
   "metadata": {},
   "outputs": [],
   "source": [
    "def process_blurred_values(df, df_column_name):\n",
    "    column_values = df[df_column_name].unique()\n",
    "    column_values = list(map(str, column_values))\n",
    "    type_num_column_values = [int(value) for value in column_values if value.isdigit()]\n",
    "    \n",
    "    min_column_value = min(type_num_column_values)\n",
    "    max_column_value = max(type_num_column_values)\n",
    "    mean_column_value = np.mean(type_num_column_values)\n",
    "    print(min_column_value)\n",
    "    print(max_column_value)\n",
    "    print(mean_column_value)\n",
    "    \n",
    "    for value in column_values:\n",
    "        if value.isdigit():\n",
    "            df.loc[df[df_column_name] == value, df_column_name] = float(value)\n",
    "        elif '-' in value:\n",
    "            mean_of_range = np.mean(list(map(int, value.split('-'))))\n",
    "            df.loc[df[df_column_name] == value, df_column_name] = mean_of_range\n",
    "        elif 'GE' in value:\n",
    "            df.loc[df[df_column_name] == value, df_column_name] = float(value[2:])\n",
    "        elif 'LE' in value:\n",
    "            df.loc[df[df_column_name] == value, df_column_name] = float(value[2:])\n",
    "        elif 'GT' in value:\n",
    "            upper_mean_value = np.mean([int(value[2:]), max_column_value])\n",
    "            df.loc[df[df_column_name] == value, df_column_name] = upper_mean_value\n",
    "        elif 'LT' in value:\n",
    "            lower_mean_value = np.mean([min_column_value, int(value[2:])])\n",
    "            df.loc[df[df_column_name] == value, df_column_name] = lower_mean_value \n",
    "        else:\n",
    "            df.loc[df[df_column_name] == value, df_column_name] = mean_column_value\n",
    "\n",
    "    return df"
   ]
  },
  {
   "cell_type": "code",
   "execution_count": 54,
   "metadata": {},
   "outputs": [
    {
     "data": {
      "text/plain": [
       "array(['42', '39', '66', '72', '37', '43', '69', '21', '62', '47', '34',\n",
       "       '60', '23', '54', '48', '46', '50', '11', '19', '35', '51', '13',\n",
       "       '26', '32', '22', '27', '41', '49', '44', '31', '38', '67', '53',\n",
       "       '33', '20', '36', '14', '63', '40', '56', '45', '52', '10', '17',\n",
       "       '29', '28', '87', '59', '58', '78', '10-14', '30', '25-29',\n",
       "       '30-34', '60-64', '30-39', '61', '45-49', '68', '35-39', '11-19',\n",
       "       'LT50', 'PS', '65-69', '80-89', '85-89', '55-59', 'LE10', '55',\n",
       "       '2', '15-19', '40-44', '50-54', 'LE20', '16', 'LE5', '20-29',\n",
       "       '21-39', '70-74', '15', 'GE90', '86', '76', '40-49', '24', '75-79',\n",
       "       '74', '25', '50-59', '70-79', '6-9', '85', '7', '40-59', '60-79',\n",
       "       '80-84', '20-24', '71', '65', '8', '64', '82', 'GE50', '80', '70',\n",
       "       '77', '88', '83', '93', '81', '57', '75', '84', '92', '73', 'GE95',\n",
       "       '18', '12', '6', '9', '3', '90', 'LE1', '4', 'GE80', '5', '60-69',\n",
       "       '79', '89', '98', '91', '95', '90-94', '94', 'GE99', '96', '97'],\n",
       "      dtype=object)"
      ]
     },
     "execution_count": 54,
     "metadata": {},
     "output_type": "execute_result"
    }
   ],
   "source": [
    " math_achievement_data['ALL_MTH00PCTPROF_1516'].unique()"
   ]
  },
  {
   "cell_type": "code",
   "execution_count": 55,
   "metadata": {},
   "outputs": [
    {
     "name": "stdout",
     "output_type": "stream",
     "text": [
      "2\n",
      "98\n",
      "50.0\n"
     ]
    }
   ],
   "source": [
    "math_achievement_data = process_blurred_values(math_achievement_data, 'ALL_MTH00PCTPROF_1516')"
   ]
  },
  {
   "cell_type": "code",
   "execution_count": 56,
   "metadata": {},
   "outputs": [
    {
     "data": {
      "text/plain": [
       "array([42.0, 39.0, 66.0, 72.0, 37.0, 43.0, 69.0, 21.0, 62.0, 47.0, 34.0,\n",
       "       60.0, 23.0, 54.0, 48.0, 46.0, 50.0, 11.0, 19.0, 35.0, 51.0, 13.0,\n",
       "       26.0, 32.0, 22.0, 27.0, 41.0, 49.0, 44.0, 31.0, 38.0, 67.0, 53.0,\n",
       "       33.0, 20.0, 36.0, 14.0, 63.0, 40.0, 56.0, 45.0, 52.0, 10.0, 17.0,\n",
       "       29.0, 28.0, 87.0, 59.0, 58.0, 78.0, 12.0, 30.0, 34.5, 61.0, 68.0,\n",
       "       15.0, 84.5, 57.0, 55.0, 2.0, 16.0, 5.0, 24.5, 90.0, 86.0, 76.0,\n",
       "       44.5, 24.0, 77.0, 74.0, 25.0, 54.5, 74.5, 7.5, 85.0, 7.0, 49.5,\n",
       "       69.5, 82.0, 71.0, 65.0, 8.0, 64.0, 80.0, 70.0, 88.0, 83.0, 93.0,\n",
       "       81.0, 75.0, 84.0, 92.0, 73.0, 95.0, 18.0, 6.0, 9.0, 3.0, 1.0, 4.0,\n",
       "       64.5, 79.0, 89.0, 98.0, 91.0, 94.0, 99.0, 96.0, 97.0], dtype=object)"
      ]
     },
     "execution_count": 56,
     "metadata": {},
     "output_type": "execute_result"
    }
   ],
   "source": [
    "math_achievement_data['ALL_MTH00PCTPROF_1516'].unique()"
   ]
  },
  {
   "cell_type": "code",
   "execution_count": 63,
   "metadata": {},
   "outputs": [
    {
     "data": {
      "image/png": "[encoded data removed]",
      "text/plain": [
       "<Figure size 1080x360 with 1 Axes>"
      ]
     },
     "metadata": {
      "needs_background": "light"
     },
     "output_type": "display_data"
    }
   ],
   "source": [
    "from matplotlib.ticker import PercentFormatter\n",
    "fig, ax = plt.subplots(figsize = (15,5))\n",
    "ax.hist(math_achievement_data['ALL_MTH00PCTPROF_1516'], bins = 10, edgecolor='black')\n",
    "ax.set_title(\"Percentage of students in the school that scored at or above proficient in Math\", size=18)\n",
    "ax.set_xlabel(\"Percentage of Students that scored at or above proficient in Math\", size=18)\n",
    "ax.set_ylabel(\"Number of School Districts\", size=18)\n",
    "plt.savefig(\"q3.png\")\n",
    "plt.show()"
   ]
  },
  {
   "cell_type": "code",
   "execution_count": 37,
   "metadata": {},
   "outputs": [
    {
     "data": {
      "text/plain": [
       "(16237, 229)"
      ]
     },
     "execution_count": 37,
     "metadata": {},
     "output_type": "execute_result"
    }
   ],
   "source": [
    "math_achievement_data.shape"
   ]
  },
  {
   "cell_type": "markdown",
   "metadata": {},
   "source": [
    "## Solution 4"
   ]
  },
  {
   "cell_type": "code",
   "execution_count": 85,
   "metadata": {},
   "outputs": [
    {
     "name": "stdout",
     "output_type": "stream",
     "text": [
      "8340410870.7\n"
     ]
    }
   ],
   "source": [
    "funding_cut = 0.15 * fiscal_data['TFEDREV'].sum()\n",
    "print(funding_cut)"
   ]
  },
  {
   "cell_type": "code",
   "execution_count": 133,
   "metadata": {},
   "outputs": [],
   "source": [
    "fiscal_data_5 = fiscal_data[['LEAID', 'TOTALREV', 'TOTALEXP', '_66V', 'TFEDREV']]"
   ]
  },
  {
   "cell_type": "code",
   "execution_count": 134,
   "metadata": {},
   "outputs": [],
   "source": [
    "fiscal_data_5 = fiscal_data_5.drop(fiscal_data_5[fiscal_data_5.TOTALREV <= 0].index)"
   ]
  },
  {
   "cell_type": "code",
   "execution_count": 135,
   "metadata": {},
   "outputs": [],
   "source": [
    "fiscal_data_5 = fiscal_data_5.drop(fiscal_data_5[fiscal_data_5.TOTALEXP <= 0].index)"
   ]
  },
  {
   "cell_type": "code",
   "execution_count": 136,
   "metadata": {},
   "outputs": [],
   "source": [
    "fiscal_data_5 = fiscal_data_5.drop(fiscal_data_5[fiscal_data_5.TFEDREV <= 0].index)"
   ]
  },
  {
   "cell_type": "code",
   "execution_count": 137,
   "metadata": {},
   "outputs": [],
   "source": [
    "fiscal_data_5['amount left'] = (fiscal_data_5['TOTALREV'] - fiscal_data_5['TOTALEXP'] - fiscal_data_5['_66V'])"
   ]
  },
  {
   "cell_type": "code",
   "execution_count": 138,
   "metadata": {},
   "outputs": [],
   "source": [
    "fiscal_data_5 = fiscal_data_5.sort_values('amount left', ascending = False).drop(['TOTALREV', 'TOTALEXP', '_66V'], axis= 1)"
   ]
  },
  {
   "cell_type": "code",
   "execution_count": 139,
   "metadata": {},
   "outputs": [],
   "source": [
    "fiscal_data_5['Rank'] = fiscal_data_5['amount left'].rank(ascending = 0)"
   ]
  },
  {
   "cell_type": "code",
   "execution_count": 140,
   "metadata": {},
   "outputs": [],
   "source": [
    "fiscal_data_5 = fiscal_data_5.drop(fiscal_data_5[fiscal_data_5['amount left'] <= 0].index)"
   ]
  },
  {
   "cell_type": "code",
   "execution_count": 141,
   "metadata": {},
   "outputs": [
    {
     "data": {
      "text/html": [
       "<div>\n",
       "<style scoped>\n",
       "    .dataframe tbody tr th:only-of-type {\n",
       "        vertical-align: middle;\n",
       "    }\n",
       "\n",
       "    .dataframe tbody tr th {\n",
       "        vertical-align: top;\n",
       "    }\n",
       "\n",
       "    .dataframe thead th {\n",
       "        text-align: right;\n",
       "    }\n",
       "</style>\n",
       "<table border=\"1\" class=\"dataframe\">\n",
       "  <thead>\n",
       "    <tr style=\"text-align: right;\">\n",
       "      <th></th>\n",
       "      <th>LEAID</th>\n",
       "      <th>TFEDREV</th>\n",
       "      <th>amount left</th>\n",
       "      <th>Rank</th>\n",
       "    </tr>\n",
       "  </thead>\n",
       "  <tbody>\n",
       "    <tr>\n",
       "      <th>1904</th>\n",
       "      <td>0622710</td>\n",
       "      <td>1091400000</td>\n",
       "      <td>643215000</td>\n",
       "      <td>1.0</td>\n",
       "    </tr>\n",
       "    <tr>\n",
       "      <th>7676</th>\n",
       "      <td>2680995</td>\n",
       "      <td>73019000</td>\n",
       "      <td>310557000</td>\n",
       "      <td>2.0</td>\n",
       "    </tr>\n",
       "    <tr>\n",
       "      <th>3306</th>\n",
       "      <td>1500030</td>\n",
       "      <td>261131000</td>\n",
       "      <td>297425000</td>\n",
       "      <td>3.0</td>\n",
       "    </tr>\n",
       "    <tr>\n",
       "      <th>15038</th>\n",
       "      <td>4218990</td>\n",
       "      <td>271369000</td>\n",
       "      <td>206653000</td>\n",
       "      <td>4.0</td>\n",
       "    </tr>\n",
       "    <tr>\n",
       "      <th>6328</th>\n",
       "      <td>2400480</td>\n",
       "      <td>112717000</td>\n",
       "      <td>199357000</td>\n",
       "      <td>5.0</td>\n",
       "    </tr>\n",
       "    <tr>\n",
       "      <th>...</th>\n",
       "      <td>...</td>\n",
       "      <td>...</td>\n",
       "      <td>...</td>\n",
       "      <td>...</td>\n",
       "    </tr>\n",
       "    <tr>\n",
       "      <th>5833</th>\n",
       "      <td>2200047</td>\n",
       "      <td>406000</td>\n",
       "      <td>1000</td>\n",
       "      <td>10777.0</td>\n",
       "    </tr>\n",
       "    <tr>\n",
       "      <th>18127</th>\n",
       "      <td>5400511</td>\n",
       "      <td>1668000</td>\n",
       "      <td>1000</td>\n",
       "      <td>10777.0</td>\n",
       "    </tr>\n",
       "    <tr>\n",
       "      <th>3609</th>\n",
       "      <td>1700246</td>\n",
       "      <td>33000</td>\n",
       "      <td>1000</td>\n",
       "      <td>10777.0</td>\n",
       "    </tr>\n",
       "    <tr>\n",
       "      <th>6231</th>\n",
       "      <td>2313710</td>\n",
       "      <td>10000</td>\n",
       "      <td>1000</td>\n",
       "      <td>10777.0</td>\n",
       "    </tr>\n",
       "    <tr>\n",
       "      <th>2017</th>\n",
       "      <td>0627900</td>\n",
       "      <td>588000</td>\n",
       "      <td>1000</td>\n",
       "      <td>10777.0</td>\n",
       "    </tr>\n",
       "  </tbody>\n",
       "</table>\n",
       "<p>10799 rows × 4 columns</p>\n",
       "</div>"
      ],
      "text/plain": [
       "         LEAID     TFEDREV  amount left     Rank\n",
       "1904   0622710  1091400000    643215000      1.0\n",
       "7676   2680995    73019000    310557000      2.0\n",
       "3306   1500030   261131000    297425000      3.0\n",
       "15038  4218990   271369000    206653000      4.0\n",
       "6328   2400480   112717000    199357000      5.0\n",
       "...        ...         ...          ...      ...\n",
       "5833   2200047      406000         1000  10777.0\n",
       "18127  5400511     1668000         1000  10777.0\n",
       "3609   1700246       33000         1000  10777.0\n",
       "6231   2313710       10000         1000  10777.0\n",
       "2017   0627900      588000         1000  10777.0\n",
       "\n",
       "[10799 rows x 4 columns]"
      ]
     },
     "execution_count": 141,
     "metadata": {},
     "output_type": "execute_result"
    }
   ],
   "source": [
    "fiscal_data_5"
   ]
  },
  {
   "cell_type": "code",
   "execution_count": 143,
   "metadata": {},
   "outputs": [
    {
     "name": "stderr",
     "output_type": "stream",
     "text": [
      "/opt/anaconda3/envs/ds5500/lib/python3.7/site-packages/ipykernel_launcher.py:15: SettingWithCopyWarning: \n",
      "A value is trying to be set on a copy of a slice from a DataFrame\n",
      "\n",
      "See the caveats in the documentation: http://pandas.pydata.org/pandas-docs/stable/user_guide/indexing.html#returning-a-view-versus-a-copy\n",
      "  from ipykernel import kernelapp as app\n"
     ]
    },
    {
     "name": "stdout",
     "output_type": "stream",
     "text": [
      "4215480\n",
      "7298.5\n"
     ]
    },
    {
     "name": "stderr",
     "output_type": "stream",
     "text": [
      "/opt/anaconda3/envs/ds5500/lib/python3.7/site-packages/ipykernel_launcher.py:10: SettingWithCopyWarning: \n",
      "A value is trying to be set on a copy of a slice from a DataFrame\n",
      "\n",
      "See the caveats in the documentation: http://pandas.pydata.org/pandas-docs/stable/user_guide/indexing.html#returning-a-view-versus-a-copy\n",
      "  # Remove the CWD from sys.path while we load stuff.\n"
     ]
    }
   ],
   "source": [
    "fiscal_data_5['federal funding cut'] = [None] * fiscal_data_5['TFEDREV'].shape[0]\n",
    "funding_to_be_cut = funding_cut\n",
    "for idx in list(fiscal_data_5.index):\n",
    "    federal_funding_cut = fiscal_data_5['amount left'][idx] * 0.4\n",
    "    if fiscal_data_5['TFEDREV'][idx] < federal_funding_cut:\n",
    "        federal_funding_cut = fiscal_data_5['amount left'][idx] * 0.2\n",
    "    if fiscal_data_5['TFEDREV'][idx] < federal_funding_cut:\n",
    "        continue\n",
    "    if funding_to_be_cut < federal_funding_cut:\n",
    "        fiscal_data_5['federal funding cut'][idx] = funding_to_be_cut\n",
    "        print(fiscal_data_5['LEAID'][idx])\n",
    "        print(fiscal_data_5['Rank'][idx])\n",
    "        break\n",
    "        \n",
    "    fiscal_data_5['federal funding cut'][idx] = federal_funding_cut\n",
    "    funding_to_be_cut -= federal_funding_cut"
   ]
  },
  {
   "cell_type": "code",
   "execution_count": 146,
   "metadata": {},
   "outputs": [],
   "source": [
    "fiscal_data_5 = fiscal_data_5[fiscal_data_5['federal funding cut'].notnull()]"
   ]
  },
  {
   "cell_type": "code",
   "execution_count": 149,
   "metadata": {},
   "outputs": [],
   "source": [
    "fiscal_data_5 = fiscal_data_5.sort_values('federal funding cut', ascending = False).drop(['TFEDREV', 'amount left', 'Rank'], axis= 1)"
   ]
  },
  {
   "cell_type": "code",
   "execution_count": 152,
   "metadata": {},
   "outputs": [
    {
     "data": {
      "text/html": [
       "<div>\n",
       "<style scoped>\n",
       "    .dataframe tbody tr th:only-of-type {\n",
       "        vertical-align: middle;\n",
       "    }\n",
       "\n",
       "    .dataframe tbody tr th {\n",
       "        vertical-align: top;\n",
       "    }\n",
       "\n",
       "    .dataframe thead th {\n",
       "        text-align: right;\n",
       "    }\n",
       "</style>\n",
       "<table border=\"1\" class=\"dataframe\">\n",
       "  <thead>\n",
       "    <tr style=\"text-align: right;\">\n",
       "      <th></th>\n",
       "      <th>LEAID</th>\n",
       "      <th>federal funding cut</th>\n",
       "    </tr>\n",
       "  </thead>\n",
       "  <tbody>\n",
       "    <tr>\n",
       "      <th>1904</th>\n",
       "      <td>0622710</td>\n",
       "      <td>2.57286e+08</td>\n",
       "    </tr>\n",
       "    <tr>\n",
       "      <th>3306</th>\n",
       "      <td>1500030</td>\n",
       "      <td>1.1897e+08</td>\n",
       "    </tr>\n",
       "    <tr>\n",
       "      <th>15038</th>\n",
       "      <td>4218990</td>\n",
       "      <td>8.26612e+07</td>\n",
       "    </tr>\n",
       "    <tr>\n",
       "      <th>6328</th>\n",
       "      <td>2400480</td>\n",
       "      <td>7.97428e+07</td>\n",
       "    </tr>\n",
       "    <tr>\n",
       "      <th>7676</th>\n",
       "      <td>2680995</td>\n",
       "      <td>6.21114e+07</td>\n",
       "    </tr>\n",
       "    <tr>\n",
       "      <th>9784</th>\n",
       "      <td>3200060</td>\n",
       "      <td>5.58004e+07</td>\n",
       "    </tr>\n",
       "    <tr>\n",
       "      <th>3057</th>\n",
       "      <td>1201440</td>\n",
       "      <td>5.17112e+07</td>\n",
       "    </tr>\n",
       "    <tr>\n",
       "      <th>6006</th>\n",
       "      <td>2201170</td>\n",
       "      <td>4.26816e+07</td>\n",
       "    </tr>\n",
       "    <tr>\n",
       "      <th>7665</th>\n",
       "      <td>2680880</td>\n",
       "      <td>3.75602e+07</td>\n",
       "    </tr>\n",
       "    <tr>\n",
       "      <th>2240</th>\n",
       "      <td>0638010</td>\n",
       "      <td>3.03728e+07</td>\n",
       "    </tr>\n",
       "    <tr>\n",
       "      <th>7654</th>\n",
       "      <td>2680720</td>\n",
       "      <td>2.90932e+07</td>\n",
       "    </tr>\n",
       "    <tr>\n",
       "      <th>5622</th>\n",
       "      <td>2012990</td>\n",
       "      <td>2.87732e+07</td>\n",
       "    </tr>\n",
       "    <tr>\n",
       "      <th>7650</th>\n",
       "      <td>2680620</td>\n",
       "      <td>2.8678e+07</td>\n",
       "    </tr>\n",
       "    <tr>\n",
       "      <th>3059</th>\n",
       "      <td>1201500</td>\n",
       "      <td>2.81316e+07</td>\n",
       "    </tr>\n",
       "    <tr>\n",
       "      <th>15402</th>\n",
       "      <td>4502310</td>\n",
       "      <td>2.80268e+07</td>\n",
       "    </tr>\n",
       "    <tr>\n",
       "      <th>6329</th>\n",
       "      <td>2400510</td>\n",
       "      <td>2.64964e+07</td>\n",
       "    </tr>\n",
       "    <tr>\n",
       "      <th>3207</th>\n",
       "      <td>1302550</td>\n",
       "      <td>2.51784e+07</td>\n",
       "    </tr>\n",
       "    <tr>\n",
       "      <th>2174</th>\n",
       "      <td>0635310</td>\n",
       "      <td>2.49912e+07</td>\n",
       "    </tr>\n",
       "    <tr>\n",
       "      <th>3180</th>\n",
       "      <td>1301740</td>\n",
       "      <td>2.45516e+07</td>\n",
       "    </tr>\n",
       "    <tr>\n",
       "      <th>15911</th>\n",
       "      <td>4800211</td>\n",
       "      <td>2.44056e+07</td>\n",
       "    </tr>\n",
       "  </tbody>\n",
       "</table>\n",
       "</div>"
      ],
      "text/plain": [
       "         LEAID federal funding cut\n",
       "1904   0622710         2.57286e+08\n",
       "3306   1500030          1.1897e+08\n",
       "15038  4218990         8.26612e+07\n",
       "6328   2400480         7.97428e+07\n",
       "7676   2680995         6.21114e+07\n",
       "9784   3200060         5.58004e+07\n",
       "3057   1201440         5.17112e+07\n",
       "6006   2201170         4.26816e+07\n",
       "7665   2680880         3.75602e+07\n",
       "2240   0638010         3.03728e+07\n",
       "7654   2680720         2.90932e+07\n",
       "5622   2012990         2.87732e+07\n",
       "7650   2680620          2.8678e+07\n",
       "3059   1201500         2.81316e+07\n",
       "15402  4502310         2.80268e+07\n",
       "6329   2400510         2.64964e+07\n",
       "3207   1302550         2.51784e+07\n",
       "2174   0635310         2.49912e+07\n",
       "3180   1301740         2.45516e+07\n",
       "15911  4800211         2.44056e+07"
      ]
     },
     "execution_count": 152,
     "metadata": {},
     "output_type": "execute_result"
    }
   ],
   "source": [
    "fiscal_data_5[:20]"
   ]
  },
  {
   "cell_type": "code",
   "execution_count": null,
   "metadata": {},
   "outputs": [],
   "source": []
  }
 ],
 "metadata": {
  "kernelspec": {
   "display_name": "Python 3",
   "language": "python",
   "name": "python3"
  },
  "language_info": {
   "codemirror_mode": {
    "name": "ipython",
    "version": 3
   },
   "file_extension": ".py",
   "mimetype": "text/x-python",
   "name": "python",
   "nbconvert_exporter": "python",
   "pygments_lexer": "ipython3",
   "version": "3.7.5"
  }
 },
 "nbformat": 4,
 "nbformat_minor": 2
}
